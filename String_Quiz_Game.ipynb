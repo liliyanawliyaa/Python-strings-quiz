{
  "cells": [
    {
      "cell_type": "markdown",
      "metadata": {
        "id": "view-in-github",
        "colab_type": "text"
      },
      "source": [
        "<a href=\"https://colab.research.google.com/github/liliyanawliyaa/Python-strings-quiz/blob/main/String_Quiz_Game.ipynb\" target=\"_parent\"><img src=\"https://colab.research.google.com/assets/colab-badge.svg\" alt=\"Open In Colab\"/></a>"
      ]
    },
    {
      "cell_type": "markdown",
      "metadata": {
        "id": "JdMDS_dy6dw_"
      },
      "source": [
        "# 🧠 Python String Quiz Game\n",
        "Run the code cell below to play the quiz!"
      ],
      "id": "JdMDS_dy6dw_"
    },
    {
      "cell_type": "code",
      "source": [
        "# 🧪 String Methods Quiz Game\n",
        "print(\"Welcome to the Python String Methods Quiz!\")\n",
        "\n",
        "score = 0\n",
        "\n",
        "def ask_question(question, options, answer):\n",
        "    global score\n",
        "    print(\"\\n\" + question)\n",
        "    for i, option in enumerate(options):\n",
        "        print(f\"{i + 1}. {option}\")\n",
        "    try:\n",
        "        choice = int(input(\"Enter the number of your answer: \"))\n",
        "        if options[choice - 1] == answer:\n",
        "            print(\"✅ Correct!\")\n",
        "            score += 1\n",
        "        else:\n",
        "            print(f\"❌ Incorrect! The correct answer was: {answer}\")\n",
        "    except:\n",
        "        print(\"❌ Invalid input. Please enter a number.\")\n",
        "\n",
        "# Questions\n",
        "ask_question(\n",
        "    \"What does the method .upper() do to a string?\",\n",
        "    [\"Converts it to lowercase\", \"Removes spaces\", \"Converts it to uppercase\", \"Finds a word in it\"],\n",
        "    \"Converts it to uppercase\"\n",
        ")\n",
        "\n",
        "ask_question(\n",
        "    \"What is the output of 'hello'.replace('h', 'y')?\",\n",
        "    [\"hello\", \"yello\", \"hyello\", \"helloy\"],\n",
        "    \"yello\"\n",
        ")\n",
        "\n",
        "ask_question(\n",
        "    \"Which method splits a string into a list of words?\",\n",
        "    [\".cut()\", \".split()\", \".divide()\", \".explode()\"],\n",
        "    \".split()\"\n",
        ")\n",
        "\n",
        "ask_question(\n",
        "    \"What does 'Python'.find('t') return?\",\n",
        "    [\"1\", \"2\", \"3\", \"-1\"],\n",
        "    \"2\"\n",
        ")\n",
        "\n",
        "ask_question(\n",
        "    \"What is the result of 'apple'.count('p')?\",\n",
        "    [\"1\", \"2\", \"3\", \"0\"],\n",
        "    \"2\"\n",
        ")\n",
        "\n",
        "# Final score\n",
        "print(f\"\\n🎉 Your final score: {score}/5\")\n",
        "\n",
        "if score == 5:\n",
        "    print(\"🏆 String Master!\")\n",
        "elif score >= 3:\n",
        "    print(\"👍 Good job!\")\n",
        "else:\n",
        "    print(\"🧪 Keep practicing!\")\n"
      ],
      "metadata": {
        "colab": {
          "base_uri": "https://localhost:8080/"
        },
        "id": "p1h0sEqB7y8T",
        "outputId": "0aebf346-6184-47e7-c2da-a80fc44ecfd9"
      },
      "id": "p1h0sEqB7y8T",
      "execution_count": 2,
      "outputs": [
        {
          "output_type": "stream",
          "name": "stdout",
          "text": [
            "Welcome to the Python String Methods Quiz!\n",
            "\n",
            "What does the method .upper() do to a string?\n",
            "1. Converts it to lowercase\n",
            "2. Removes spaces\n",
            "3. Converts it to uppercase\n",
            "4. Finds a word in it\n",
            "Enter the number of your answer: 3\n",
            "✅ Correct!\n",
            "\n",
            "What is the output of 'hello'.replace('h', 'y')?\n",
            "1. hello\n",
            "2. yello\n",
            "3. hyello\n",
            "4. helloy\n",
            "Enter the number of your answer: 2\n",
            "✅ Correct!\n",
            "\n",
            "Which method splits a string into a list of words?\n",
            "1. .cut()\n",
            "2. .split()\n",
            "3. .divide()\n",
            "4. .explode()\n",
            "Enter the number of your answer: 2\n",
            "✅ Correct!\n",
            "\n",
            "What does 'Python'.find('t') return?\n",
            "1. 1\n",
            "2. 2\n",
            "3. 3\n",
            "4. -1\n",
            "Enter the number of your answer: 3\n",
            "❌ Incorrect! The correct answer was: 2\n",
            "\n",
            "What is the result of 'apple'.count('p')?\n",
            "1. 1\n",
            "2. 2\n",
            "3. 3\n",
            "4. 0\n",
            "Enter the number of your answer: 2\n",
            "✅ Correct!\n",
            "\n",
            "🎉 Your final score: 4/5\n",
            "👍 Good job!\n"
          ]
        }
      ]
    }
  ],
  "metadata": {
    "colab": {
      "provenance": [],
      "include_colab_link": true
    },
    "kernelspec": {
      "display_name": "Python 3",
      "language": "python",
      "name": "python3"
    },
    "language_info": {
      "name": "python",
      "version": "3.10"
    }
  },
  "nbformat": 4,
  "nbformat_minor": 5
}